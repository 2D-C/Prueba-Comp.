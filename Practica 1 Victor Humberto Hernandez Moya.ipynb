{
 "cells": [
  {
   "cell_type": "code",
   "execution_count": 1,
   "metadata": {},
   "outputs": [
    {
     "name": "stdout",
     "output_type": "stream",
     "text": [
      "victor\n"
     ]
    }
   ],
   "source": [
    "%%bash\n",
    "whoami"
   ]
  },
  {
   "cell_type": "code",
   "execution_count": 1,
   "metadata": {},
   "outputs": [
    {
     "name": "stdout",
     "output_type": "stream",
     "text": [
      "Thu Oct 15 16:45:03 CDT 2020\n"
     ]
    }
   ],
   "source": [
    "%%bash\n",
    "date"
   ]
  },
  {
   "cell_type": "markdown",
   "metadata": {},
   "source": [
    "CDT significa Hora de Verano Central (Central Daylight Time)"
   ]
  },
  {
   "cell_type": "code",
   "execution_count": 2,
   "metadata": {},
   "outputs": [
    {
     "name": "stdout",
     "output_type": "stream",
     "text": [
      "   February 1911      \n",
      "Su Mo Tu We Th Fr Sa  \n",
      "          1  2  3  4  \n",
      " 5  6  7  8  9 10 11  \n",
      "12 13 14 15 16 17 18  \n",
      "19 20 21 22 23 24 25  \n",
      "26 27 28              \n",
      "                      \n"
     ]
    }
   ],
   "source": [
    "%%bash\n",
    "cal 2 1911"
   ]
  },
  {
   "cell_type": "markdown",
   "metadata": {},
   "source": [
    "Su dia de nacimiento cayo en sabado"
   ]
  },
  {
   "cell_type": "code",
   "execution_count": 4,
   "metadata": {},
   "outputs": [
    {
     "name": "stdout",
     "output_type": "stream",
     "text": [
      "     July 1913        \n",
      "Su Mo Tu We Th Fr Sa  \n",
      "       1  2  3  4  5  \n",
      " 6  7  8  9 10 11 12  \n",
      "13 14 15 16 17 18 19  \n",
      "20 21 22 23 24 25 26  \n",
      "27 28 29 30 31        \n",
      "                      \n"
     ]
    }
   ],
   "source": [
    "%%bash\n",
    "cal 7 1913"
   ]
  },
  {
   "cell_type": "code",
   "execution_count": 5,
   "metadata": {},
   "outputs": [
    {
     "name": "stdout",
     "output_type": "stream",
     "text": [
      "         July 1913           \n",
      " Su  Mo  Tu  We  Th  Fr  Sa  \n",
      "        182 183 184 185 186  \n",
      "187 188 189 190 191 192 193  \n",
      "194 195 196 197 198 199 200  \n",
      "201 202 203 204 205 206 207  \n",
      "208 209 210 211 212          \n",
      "                             \n"
     ]
    }
   ],
   "source": [
    "%%bash\n",
    "cal -j 7 1913"
   ]
  },
  {
   "cell_type": "markdown",
   "metadata": {},
   "source": [
    "Alberto Barajas nacio el dia 198 en jueves del año de 1913"
   ]
  },
  {
   "cell_type": "code",
   "execution_count": 9,
   "metadata": {},
   "outputs": [
    {
     "name": "stdout",
     "output_type": "stream",
     "text": [
      "Linux DESKTOP-96AH5UB 4.4.0-18362-Microsoft #1049-Microsoft Thu Aug 14 12:01:00 PST 2020 x86_64 x86_64 x86_64 GNU/Linux\n"
     ]
    }
   ],
   "source": [
    "%%bash\n",
    "uname -a"
   ]
  },
  {
   "cell_type": "markdown",
   "metadata": {},
   "source": [
    "La version de Kernel es 4.4.0-18362-Microsoft"
   ]
  },
  {
   "cell_type": "markdown",
   "metadata": {},
   "source": [
    "PARTE 2 DE LA PRACTICA"
   ]
  },
  {
   "cell_type": "code",
   "execution_count": 1,
   "metadata": {},
   "outputs": [
    {
     "name": "stdout",
     "output_type": "stream",
     "text": [
      "/mnt/c/Users/HP/Documents\n"
     ]
    }
   ],
   "source": [
    "%%bash\n",
    "pwd"
   ]
  },
  {
   "cell_type": "code",
   "execution_count": 2,
   "metadata": {},
   "outputs": [],
   "source": [
    "%%bash\n",
    "mkdir HumbertoMoya"
   ]
  },
  {
   "cell_type": "code",
   "execution_count": 3,
   "metadata": {},
   "outputs": [],
   "source": [
    "%%bash\n",
    "mkdir HumbertoMoya/Hernandez"
   ]
  },
  {
   "cell_type": "code",
   "execution_count": 4,
   "metadata": {},
   "outputs": [],
   "source": [
    "%%bash\n",
    "mkdir HumbertoMoya/Moya"
   ]
  },
  {
   "cell_type": "code",
   "execution_count": 31,
   "metadata": {},
   "outputs": [],
   "source": [
    "%%bash\n",
    "touch .prueba1"
   ]
  },
  {
   "cell_type": "code",
   "execution_count": 37,
   "metadata": {},
   "outputs": [],
   "source": [
    "%%bash\n",
    "touch prueba2"
   ]
  },
  {
   "cell_type": "code",
   "execution_count": 33,
   "metadata": {},
   "outputs": [],
   "source": [
    "%%bash\n",
    "mv .prueba1 HumbertoMoya/Hernandez"
   ]
  },
  {
   "cell_type": "code",
   "execution_count": 38,
   "metadata": {},
   "outputs": [],
   "source": [
    "%%bash\n",
    "mv prueba2 HumbertoMoya/Moya"
   ]
  },
  {
   "cell_type": "markdown",
   "metadata": {},
   "source": [
    "El comando cd- te ayuda a regresar al directorio anterior"
   ]
  },
  {
   "cell_type": "code",
   "execution_count": 39,
   "metadata": {},
   "outputs": [
    {
     "name": "stdout",
     "output_type": "stream",
     "text": [
      "HumbertoMoya:\n",
      "Hernandez\n",
      "Moya\n",
      "\n",
      "HumbertoMoya/Hernandez:\n",
      "\n",
      "HumbertoMoya/Moya:\n",
      "prueba2\n"
     ]
    }
   ],
   "source": [
    "%%bash\n",
    "ls -R HumbertoMoya"
   ]
  },
  {
   "cell_type": "markdown",
   "metadata": {},
   "source": [
    "No aparecio el archivo con punto inicial"
   ]
  },
  {
   "cell_type": "code",
   "execution_count": 41,
   "metadata": {},
   "outputs": [
    {
     "name": "stdout",
     "output_type": "stream",
     "text": [
      "HumbertoMoya:\n",
      ".\n",
      "..\n",
      "Hernandez\n",
      "Moya\n",
      "\n",
      "HumbertoMoya/Hernandez:\n",
      ".\n",
      "..\n",
      ".prueba1\n",
      "\n",
      "HumbertoMoya/Moya:\n",
      ".\n",
      "..\n",
      "prueba2\n"
     ]
    }
   ],
   "source": [
    "%%bash\n",
    "ls -Ra HumbertoMoya"
   ]
  },
  {
   "cell_type": "markdown",
   "metadata": {},
   "source": [
    "Poniendo el comando ls junto con las opciones -R y la opcion -a, nos lista el contenido de directorios y subdirectorios,\n",
    "ademas de mostrar todo el contenido del directorio, incluyendo los archivos y directorios ocultos."
   ]
  },
  {
   "cell_type": "code",
   "execution_count": null,
   "metadata": {},
   "outputs": [],
   "source": []
  }
 ],
 "metadata": {
  "kernelspec": {
   "display_name": "Python 3",
   "language": "python",
   "name": "python3"
  },
  "language_info": {
   "codemirror_mode": {
    "name": "ipython",
    "version": 3
   },
   "file_extension": ".py",
   "mimetype": "text/x-python",
   "name": "python",
   "nbconvert_exporter": "python",
   "pygments_lexer": "ipython3",
   "version": "3.8.3"
  }
 },
 "nbformat": 4,
 "nbformat_minor": 4
}
